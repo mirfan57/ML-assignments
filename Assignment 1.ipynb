{
 "cells": [
  {
   "cell_type": "markdown",
   "id": "c8487e86",
   "metadata": {},
   "source": [
    "### ML assignment"
   ]
  },
  {
   "cell_type": "markdown",
   "id": "6aed93c4",
   "metadata": {},
   "source": [
    "#### 1. How would you define Machine Learning?"
   ]
  },
  {
   "cell_type": "markdown",
   "id": "3e168c55",
   "metadata": {},
   "source": [
    "Machine learning is defined as building machines which can learn from data. Learning improves over time and with amount of data."
   ]
  },
  {
   "cell_type": "markdown",
   "id": "d34cdc93",
   "metadata": {},
   "source": [
    "#### 2.Can you think of 4 distinct types of issues where it shines?"
   ]
  },
  {
   "cell_type": "markdown",
   "id": "97d04e13",
   "metadata": {},
   "source": [
    "Machine learning algorithms usually are effective while dealing with complex problems where the amount of dataset is large and reaching to a solution is hard using conventional techniquesa and fluctuating environments. 4 distinct types of issues where it shines are in detection of cancer, fraud credit card transactions, phishing attacks detection and self-driving vehicles."
   ]
  },
  {
   "cell_type": "markdown",
   "id": "40353571",
   "metadata": {},
   "source": [
    "#### 3.What is a labeled training set, and how does it work?"
   ]
  },
  {
   "cell_type": "markdown",
   "id": "a585eb11",
   "metadata": {},
   "source": [
    "A labelled training set is dataset containing features and its associated class labels or outcome."
   ]
  },
  {
   "cell_type": "markdown",
   "id": "10733301",
   "metadata": {},
   "source": [
    "#### 4.What are the two most important tasks that are supervised?"
   ]
  },
  {
   "cell_type": "markdown",
   "id": "f57d1da1",
   "metadata": {},
   "source": [
    "Two most important supervised tasks are Regression and Classification."
   ]
  },
  {
   "cell_type": "markdown",
   "id": "a6eb7f8c",
   "metadata": {},
   "source": [
    "#### 5.Can you think of four examples of unsupervised tasks?"
   ]
  },
  {
   "cell_type": "markdown",
   "id": "aac5d5e8",
   "metadata": {},
   "source": [
    "Four examples of unsupervised tasks are Clustering, dimensionality reduction, visualization and association rule learning."
   ]
  },
  {
   "cell_type": "markdown",
   "id": "2cbf267b",
   "metadata": {},
   "source": [
    "#### 6.State the machine learning model that would be best to make a robot walk through various unfamiliar terrains?"
   ]
  },
  {
   "cell_type": "markdown",
   "id": "cbb08c67",
   "metadata": {},
   "source": [
    "Best approach in such a situation would be reinforcement learning. The robot will adapt and learn to walk from reward and punishment based learning. "
   ]
  },
  {
   "cell_type": "markdown",
   "id": "4c201c89",
   "metadata": {},
   "source": [
    "#### 7.Which algorithm will you use to divide your customers into different groups?"
   ]
  },
  {
   "cell_type": "markdown",
   "id": "f5e4de59",
   "metadata": {},
   "source": [
    "It depends on whether I know something about the categories of customers or not. If I have prior information regarding the groups in which my customers can be divided, then a supervised classification approach will work fine. On, the contrary if I have no information then unsupervised approach has to be implemented where clustering can find decision boundaries in the groups."
   ]
  },
  {
   "cell_type": "markdown",
   "id": "77cfedb7",
   "metadata": {},
   "source": [
    "#### 8.Will you consider the problem of spam detection to be a supervised or unsupervised learning problem?"
   ]
  },
  {
   "cell_type": "markdown",
   "id": "6c173741",
   "metadata": {},
   "source": [
    "I will consider spam detection as a supervised learning approach since we are capable enough to distinguish between useful and spam. We can accordingly create labels and algorithm can learn based on it."
   ]
  },
  {
   "cell_type": "markdown",
   "id": "42faf404",
   "metadata": {},
   "source": [
    "#### 9.What is the concept of an online learning system?"
   ]
  },
  {
   "cell_type": "markdown",
   "id": "6ea1870c",
   "metadata": {},
   "source": [
    "A machine learns when data is continually provided in tiny streams in an online learning system."
   ]
  },
  {
   "cell_type": "markdown",
   "id": "180bd6c6",
   "metadata": {},
   "source": [
    "#### 10.What is out-of-core learning, and how does it differ from core learning?"
   ]
  },
  {
   "cell_type": "markdown",
   "id": "4bf9724c",
   "metadata": {},
   "source": [
    "Out-of-core learning refers to a set of algorithms working with data that cannot fit into the memory of a single computer, but that can easily fit into some data storage such as a local hard disk or web repository."
   ]
  },
  {
   "cell_type": "markdown",
   "id": "6548b975",
   "metadata": {},
   "source": [
    "#### 11.What kind of learning algorithm makes predictions using a similarity measure?"
   ]
  },
  {
   "cell_type": "markdown",
   "id": "e7c1764e",
   "metadata": {},
   "source": [
    "Learning algorithm that relies on a similarity measure to make predictions is instance-based algorithm."
   ]
  },
  {
   "cell_type": "markdown",
   "id": "bfc09f7a",
   "metadata": {},
   "source": [
    "#### 12.What&#39;s the difference between a model parameter and a hyperparameter in a learning algorithm?"
   ]
  },
  {
   "cell_type": "markdown",
   "id": "d781a2cd",
   "metadata": {},
   "source": [
    "Model parameters are estimated from data automatically and model hyperparameters are set manually and are used in processes to help estimate model parameters. Hyperparameter is a parameter for the learning algorithm, not of a model. For example, in case of linear regression the coefficient `theta` or `m` is our model parameter while `neta` or `learning rate` which is used in order to update the `theta` value and is set manually & is called our hyperparameter."
   ]
  },
  {
   "cell_type": "markdown",
   "id": "40f6477e",
   "metadata": {},
   "source": [
    "#### 13.What are the criteria that model-based learning algorithms look for? What is the most popular method they use to achieve success? What method do they use to make predictions?"
   ]
  },
  {
   "cell_type": "markdown",
   "id": "9741e98a",
   "metadata": {},
   "source": [
    "A model-based algorithm's objective is to be generalizable to new cases. To achieve this, they search for optimal values for the model's parameters. Model-based systems learn by minimizing a cost function that measures how bad the system is at making predicitons on new data. The model makes prediction by using the value of the new instance and the parameters obtained by minimizing the cost function."
   ]
  },
  {
   "cell_type": "markdown",
   "id": "59f023cd",
   "metadata": {},
   "source": [
    "#### 14.Can you name four of the most important Machine Learning challenges?"
   ]
  },
  {
   "cell_type": "markdown",
   "id": "fb63a9ea",
   "metadata": {},
   "source": [
    "Four important machine learning challenges include overfitting of data resulting in model that do not generalize well to unseen data, underfitting the data or when the equation is too simple to learn the underlying relation, data that is not representative of outcomes you want to generalize to and not gathering enough data (sampling noise).\n",
    "\n",
    "Slow implementaion, regular monitoring and maintenance to keep the algorithm working are few of the crucial factors too found while building ML models."
   ]
  },
  {
   "cell_type": "markdown",
   "id": "bc2c5ad6",
   "metadata": {},
   "source": [
    "#### 15.What happens if the model performs well on the training data but fails to generalize the results to new situations? Can you think of three different options?"
   ]
  },
  {
   "cell_type": "markdown",
   "id": "ed83ee50",
   "metadata": {},
   "source": [
    "If the model fails to generalize the results in case of new situations, then it has overfit on the training data. To solve this, we can do any of the following three: get more data, reduce complexity by removing features, or eliminate outliers or noise from the existing data set."
   ]
  },
  {
   "cell_type": "markdown",
   "id": "f2fd7244",
   "metadata": {},
   "source": [
    "#### 16.What exactly is a test set, and why would you need one?"
   ]
  },
  {
   "cell_type": "markdown",
   "id": "e81970e8",
   "metadata": {},
   "source": [
    "Once we fit our model using training dataset, we use the test set to test your model to see how it performs. Test set is necessary so that you can determine how good (or bad) your model performs."
   ]
  },
  {
   "cell_type": "markdown",
   "id": "140ba307",
   "metadata": {},
   "source": [
    "#### 17.What is a validation set&#39;s purpose?"
   ]
  },
  {
   "cell_type": "markdown",
   "id": "64c2a460",
   "metadata": {},
   "source": [
    "The sample of data used to provide an unbiased evaluation of a model fit on the training dataset while tuning model hyperparameters and finally giving the model which performs best."
   ]
  },
  {
   "cell_type": "markdown",
   "id": "1d92fbcd",
   "metadata": {},
   "source": [
    "#### 18.What precisely is the train-dev kit, when will you need it, how do you put it to use?"
   ]
  },
  {
   "cell_type": "markdown",
   "id": "6c934238",
   "metadata": {},
   "source": [
    "`train-dev kit` is the splitting of training data further to make a `development or dev set` or set in order to evaluate a lot of different models and see which algorithm performs best on dev set.\n",
    "\n",
    "Learning algorithms use training data iteratively to learn the parameters of the model. But we have different hyperparameters which we set manually in order to obtain those parameters which needs to be fine tuned in order to get the best model. The goal of the dev-set is to rank models based on their accuracy and eventually pick the best performing model. In order to provide accurate assessments of how well the choosen model is performing, it is fed with unknown test data."
   ]
  },
  {
   "cell_type": "markdown",
   "id": "7ca5e3e3",
   "metadata": {},
   "source": [
    "#### 19.What could go wrong if you use the test set to tune hyperparameters?"
   ]
  },
  {
   "cell_type": "markdown",
   "id": "add77c65",
   "metadata": {},
   "source": [
    "The model may not generalize well on unknown data."
   ]
  }
 ],
 "metadata": {
  "kernelspec": {
   "display_name": "Python 3",
   "language": "python",
   "name": "python3"
  },
  "language_info": {
   "codemirror_mode": {
    "name": "ipython",
    "version": 3
   },
   "file_extension": ".py",
   "mimetype": "text/x-python",
   "name": "python",
   "nbconvert_exporter": "python",
   "pygments_lexer": "ipython3",
   "version": "3.8.8"
  }
 },
 "nbformat": 4,
 "nbformat_minor": 5
}
